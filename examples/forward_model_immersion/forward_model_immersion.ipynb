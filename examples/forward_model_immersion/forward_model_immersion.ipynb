{
 "cells": [
  {
   "cell_type": "markdown",
   "metadata": {},
   "source": [
    "Computation of forward model for scatterers in a block in immersion.\n",
    "\n",
    "Nicolas Budyn, 2017\n",
    "\n",
    "\n",
    "Input\n",
    "-----\n",
    "\n",
    "conf.yaml\n",
    "\n",
    "Output\n",
    "------\n",
    "\n",
    "- Figures if ``aplt.conf['savefig'] == True``\n",
    "- ``tfm_intensities.csv`` is ``save == True``\n",
    "\n",
    "Model\n",
    "-----\n",
    "\n",
    "The response of a scatterer in $y$ for a given mode, for the transmitter $i$ and the receiver $j$ is:\n",
    "\n",
    "$$\n",
    "\\begin{align}\n",
    "F_{ij}(\\omega) &= Q_i(\\omega, y) Q'_j(\\omega, y) S_{ij}(\\omega, y) \n",
    "                  \\exp(\\iota \\omega \\tau_{ij}(y))  U(\\omega) \\\\\n",
    "&= H_{ij}(\\omega) U(\\omega)\n",
    "\\end{align}\n",
    "$$\n",
    "                  \n",
    "                  \n",
    "                  \n",
    "$U(\\omega)$ is the toneburst: variables ``toneburst`` in time domain and ``toneburst_f`` in frequency domain.\n",
    "\n",
    "The scatterering function $S_{ij}$ is defined in variable ``scat_obj``.\n",
    "\n",
    "The transfer function $H_{ij}$ is stored in variable ``transfer_function_f``.\n",
    "\n",
    "Data structure\n",
    "--------------\n",
    "\n",
    "``frame`` : Frame\n",
    "    Frame that contains the response of the scatterers for all views.\n",
    "    \n",
    "``tfms`` : dict of arim.im.tfm.TfmResult\n",
    "    TFM image of the contribution of a mode to the corresponding view.\n",
    "    \n",
    "\n"
   ]
  },
  {
   "cell_type": "code",
   "execution_count": null,
   "metadata": {
    "collapsed": true
   },
   "outputs": [],
   "source": [
    "matplotlib notebook"
   ]
  },
  {
   "cell_type": "code",
   "execution_count": null,
   "metadata": {
    "collapsed": true
   },
   "outputs": [],
   "source": [
    "import math\n",
    "import logging\n",
    "from collections import OrderedDict\n",
    "\n",
    "import numpy as np\n",
    "import matplotlib.pyplot as plt\n",
    "import pandas as pd\n",
    "import yaml\n",
    "from scipy.signal import hilbert\n",
    "\n",
    "import arim, arim.model, arim.scat, arim.plot as aplt\n",
    "import arim.models.block_in_immersion as bim\n",
    "import arim.im, arim.signal # for imaging\n",
    "import arim.scat"
   ]
  },
  {
   "cell_type": "code",
   "execution_count": null,
   "metadata": {},
   "outputs": [],
   "source": [
    "save = True\n",
    "aplt.conf['savefig'] = False\n",
    "\n",
    "use_multifreq = True\n",
    "max_number_of_reflection = 1\n",
    "tfm_unique_only = False\n",
    "numangles_for_scat_precomp = 120 # 0 to disable precomputation\n",
    "\n",
    "logging.basicConfig()\n",
    "logger = logging.getLogger(__name__)\n",
    "logger.setLevel(logging.INFO)\n",
    "logging.getLogger('arim').setLevel(logging.INFO)\n",
    "\n",
    "with open('conf.yaml', 'rb') as f:\n",
    "    conf = arim.config.Config(yaml.load(f))\n",
    "conf"
   ]
  },
  {
   "cell_type": "markdown",
   "metadata": {},
   "source": [
    "#### Define inspection set-up"
   ]
  },
  {
   "cell_type": "code",
   "execution_count": null,
   "metadata": {},
   "outputs": [],
   "source": [
    "# Make probe\n",
    "probe = arim.Probe.make_matrix_probe(**conf['probe'])\n",
    "\n",
    "probe.set_reference_element(conf['probe_location']['ref_element'])\n",
    "probe.reset_position()\n",
    "probe.rotate(arim.geometry.rotation_matrix_y(\n",
    "        np.deg2rad(conf['probe_location']['angle_deg'])))\n",
    "probe.translate([0, 0, conf['probe_location']['standoff']])\n",
    "\n",
    "tx_list, rx_list = arim.ut.fmc(probe.numelements)\n",
    "numscanlines = len(tx_list)\n",
    "\n",
    "# Set up geometry and materials\n",
    "\n",
    "couplant = arim.Material(**conf['couplant_material'])\n",
    "block = arim.Material(**conf['block_material'])\n",
    "frontwall = \\\n",
    "    arim.geometry.points_1d_wall_z(**conf['frontwall'], name='Frontwall')\n",
    "backwall = \\\n",
    "    arim.geometry.points_1d_wall_z(**conf['backwall'], name='Backwall')\n",
    "examination_object = arim.BlockInImmersion(block, couplant, frontwall, backwall)\n",
    "\n",
    "\n",
    "scatterers = arim.geometry.default_oriented_points(\n",
    "        arim.Points([(s['x'], 0., s['z']) for s in conf['scatterers']],\n",
    "                     'Scatterer(s)'))\n",
    "numscatterers = len(scatterers.points)\n",
    "\n",
    "# for imaging:\n",
    "grid = arim.geometry.Grid(**conf['grid'], ymin=0., ymax=0.)\n",
    "\n",
    "aplt.plot_interfaces([probe.to_oriented_points(), frontwall, backwall,\n",
    "                      grid.to_oriented_points(), scatterers],\n",
    "                      show_last=True, markers=['.', '-', '-', 'k.', 'd'])"
   ]
  },
  {
   "cell_type": "markdown",
   "metadata": {},
   "source": [
    "#### View definition and ray tracing"
   ]
  },
  {
   "cell_type": "code",
   "execution_count": null,
   "metadata": {},
   "outputs": [],
   "source": [
    "# Ray tracing\n",
    "views = bim.make_views(examination_object, probe.to_oriented_points(), scatterers,\n",
    "                       max_number_of_reflection, tfm_unique_only)\n",
    "# views = {'L-L': views['L-L']}  # debug\n",
    "print('Views: ' + ', '.join(views.keys()))\n",
    "arim.ray.ray_tracing(views.values(), convert_to_fortran_order=True)\n",
    "\n",
    "# for imaging:\n",
    "views_imaging = bim.make_views(examination_object, probe.to_oriented_points(),\n",
    "                       grid.to_oriented_points(), max_number_of_reflection, tfm_unique_only)\n",
    "# views_imaging = {'L-L': views_imaging['L-L']}  # debug\n",
    "arim.ray.ray_tracing(views_imaging.values(), convert_to_fortran_order=True)"
   ]
  },
  {
   "cell_type": "markdown",
   "metadata": {},
   "source": [
    "#### Toneburst and time vector"
   ]
  },
  {
   "cell_type": "code",
   "execution_count": null,
   "metadata": {},
   "outputs": [],
   "source": [
    "max_delay = max((view.tx_path.rays.times.max() + view.rx_path.rays.times.max()\n",
    "    for view in views.values()))\n",
    "    \n",
    "dt = .25 / conf['probe']['frequency'] # to adjust so that the whole toneburst is sampled\n",
    "_tmax = 2 * max_delay + conf['toneburst']['num_cycles'] / conf['probe']['frequency']\n",
    "\n",
    "numsamples = math.ceil(_tmax / dt)\n",
    "time = arim.Time(0., dt, numsamples)\n",
    "freq_array = np.fft.rfftfreq(len(time), dt)\n",
    "numfreq = len(freq_array)\n",
    "\n",
    "toneburst = arim.model.make_toneburst(conf['toneburst']['num_cycles'],\n",
    "                                      conf['probe']['frequency'], dt,\n",
    "                                      numsamples, wrap=True)\n",
    "toneburst_f = np.fft.rfft(toneburst)\n",
    "\n",
    "toneburst_ref = np.abs(hilbert(toneburst)[0])\n",
    "\n",
    "# plot toneburst\n",
    "plt.figure(figsize=(10, 5))\n",
    "plt.subplot(1, 2, 1)\n",
    "plt.plot(1e6 * time.samples, toneburst)\n",
    "plt.title('toneburst (time domain)')\n",
    "plt.xlabel('time (µs)')\n",
    "\n",
    "plt.subplot(1, 2, 2)\n",
    "plt.plot(1e-6 * np.fft.rfftfreq(len(toneburst), dt),\n",
    "         abs(toneburst_f))\n",
    "plt.title('toneburst (frequency domain)')\n",
    "plt.xlabel('frequency (MHz)')\n",
    "if aplt.conf['savefig']:\n",
    "    plt.savefig('toneburst')\n"
   ]
  },
  {
   "cell_type": "markdown",
   "metadata": {},
   "source": [
    "#### Compute transfer function"
   ]
  },
  {
   "cell_type": "code",
   "execution_count": null,
   "metadata": {},
   "outputs": [],
   "source": [
    "scat_obj = arim.scat.scat_factory(material=examination_object.block_material,\n",
    "                                  **conf['scatterer'])\n",
    "scat_angle = np.deg2rad(conf['scatterer_angle_deg'])\n",
    "\n",
    "transfer_function_f = np.zeros((numscanlines, numfreq), np.complex_)\n",
    "tfms = OrderedDict()\n",
    "\n",
    "if use_multifreq:\n",
    "    # Multi frequency model\n",
    "    transfer_function_iterator = bim.multifreq_scat_transfer_functions(\n",
    "        views, tx_list, rx_list, freq_array=freq_array,\n",
    "        scat_obj=scat_obj, scat_angle=conf['scatterer_angle_deg'],\n",
    "        probe_element_width=probe.dimensions.x[0],\n",
    "        numangles_for_scat_precomp=numangles_for_scat_precomp)\n",
    "else:\n",
    "    # Single frequency model\n",
    "    transfer_function_iterator = bim.singlefreq_scat_transfer_functions(\n",
    "        views, tx_list, rx_list, freq_array=freq_array,\n",
    "        scat_obj=scat_obj, scat_angle=conf['scatterer_angle_deg'],\n",
    "        frequency=probe.frequency,\n",
    "        probe_element_width=probe.dimensions.x[0],\n",
    "        numangles_for_scat_precomp=numangles_for_scat_precomp)\n",
    "\n",
    "with arim.helpers.timeit('Main loop'):\n",
    "    for viewname, partial_transfer_func in transfer_function_iterator:\n",
    "        transfer_function_f += partial_transfer_func\n",
    "\n",
    "        # imaging:\n",
    "        partial_response = arim.signal.rfft_to_hilbert(partial_transfer_func * toneburst_f,\n",
    "                                                       numsamples)\n",
    "        partial_frame = arim.Frame(partial_response, time, tx_list, rx_list,\n",
    "                                   probe, examination_object)\n",
    "\n",
    "        tfms[viewname] = arim.im.tfm.tfm_for_view(partial_frame, grid,\n",
    "                    views_imaging[viewname],\n",
    "                    interpolation='linear', fillvalue=0.)"
   ]
  },
  {
   "cell_type": "markdown",
   "metadata": {},
   "source": [
    "#### Compute the response in frequency then time domain"
   ]
  },
  {
   "cell_type": "code",
   "execution_count": null,
   "metadata": {},
   "outputs": [],
   "source": [
    "response_scanlines_f = transfer_function_f * toneburst_f\n",
    "response_scanlines = np.fft.irfft(response_scanlines_f, numsamples, axis=-1)\n",
    "\n",
    "frame = arim.Frame(response_scanlines, time, tx_list, rx_list,\n",
    "                   probe, examination_object)\n",
    "\n",
    "plt.figure()\n",
    "idx = 0\n",
    "plt.plot(frame.time.samples * 1e6, frame.scanlines[idx], label=f'tx={frame.tx[idx]}, rx={frame.tx[idx]}')\n",
    "plt.xlabel('time (µs)')\n",
    "plt.title('time-domain response')\n",
    "plt.legend()\n",
    "if aplt.conf['savefig']:\n",
    "    plt.savefig('time_domain_response')\n"
   ]
  },
  {
   "cell_type": "markdown",
   "metadata": {},
   "source": [
    "#### Check reciprocity"
   ]
  },
  {
   "cell_type": "code",
   "execution_count": null,
   "metadata": {},
   "outputs": [],
   "source": [
    "tx = 0\n",
    "rx = 1\n",
    "\n",
    "idx1 = np.nonzero(np.logical_and(tx_list == tx, rx_list == rx))[0][0]\n",
    "idx2 = np.nonzero(np.logical_and(tx_list == rx, rx_list == tx))[0][0]\n",
    "\n",
    "plt.figure()\n",
    "plt.plot(time.samples * 1e6, response_scanlines[idx1], label=f'tx={tx_list[idx1]}, rx={rx_list[idx1]}')\n",
    "plt.plot(time.samples * 1e6, response_scanlines[idx2], label=f'tx={tx_list[idx2]}, rx={rx_list[idx2]}')\n",
    "plt.legend()\n",
    "plt.xlabel('time (µs)')\n",
    "plt.title('reciprocity - signals must overlap perfectly')\n",
    "if aplt.conf['savefig']:\n",
    "    plt.savefig('reciprocity')\n",
    "\n",
    "response_scanlines_1 = response_scanlines.reshape((probe.numelements, probe.numelements, len(time)))\n",
    "response_scanlines_2 = np.swapaxes(response_scanlines_1, 0, 1)\n",
    "error_reciprocity = np.max(np.abs(response_scanlines_1 - response_scanlines_2))\n",
    "logger.info(f'Reciprocity error: {error_reciprocity}')"
   ]
  },
  {
   "cell_type": "markdown",
   "metadata": {},
   "source": [
    "#### Measure TFM intensities"
   ]
  },
  {
   "cell_type": "code",
   "execution_count": null,
   "metadata": {},
   "outputs": [],
   "source": [
    "tmp = []\n",
    "scatterer_idx = grid.closest_point(*scatterers.points[0])\n",
    "\n",
    "for viewname, tfm in tfms.items():\n",
    "    max_tfm_idx = np.argmax(np.abs(tfm.res))\n",
    "    tmp.append((\n",
    "        viewname,\n",
    "        arim.ut.decibel(np.abs(tfm.res.flat[scatterer_idx]), toneburst_ref),\n",
    "        arim.ut.decibel(np.abs(tfm.res.flat[max_tfm_idx]), toneburst_ref),\n",
    "        grid.x.flat[max_tfm_idx],\n",
    "        grid.y.flat[max_tfm_idx],\n",
    "        grid.z.flat[max_tfm_idx],\n",
    "    ))\n",
    "intensities_df = pd.DataFrame(tmp, columns=[\n",
    "        'view', 'intensity_at_centre', 'max_intensity',\n",
    "        'x_max_intensity', 'y_max_intensity', 'z_max_intensity']).set_index('view')\n",
    "\n",
    "if save:\n",
    "    intensities_df.to_csv('tfm_intensities.csv')\n",
    "    \n",
    "intensities_df.iloc[:, :2]"
   ]
  },
  {
   "cell_type": "markdown",
   "metadata": {},
   "source": [
    "#### Plot TFM"
   ]
  },
  {
   "cell_type": "code",
   "execution_count": null,
   "metadata": {
    "scrolled": false
   },
   "outputs": [],
   "source": [
    "scale = aplt.common_dynamic_db_scale([tfm.res for tfm in tfms.values()])\n",
    "\n",
    "ncols = 3\n",
    "nrows = math.ceil(len(tfms) / ncols)\n",
    "fig, axes = plt.subplots(nrows, ncols, figsize=(10, 30), sharex=True, sharey=True)\n",
    "\n",
    "for i, (viewname, tfm) in enumerate(tfms.items()):\n",
    "    ref_db, clim = next(scale)\n",
    "    \n",
    "    amp = intensities_df.loc[viewname]\n",
    "    \n",
    "    ax = axes.flat[i]\n",
    "    plt.sca(ax)\n",
    "    \n",
    "    aplt.plot_tfm(tfm, ax=ax, clim=clim, scale='db', ref_db=ref_db,\n",
    "                  title=f'TFM {viewname}',\n",
    "                  interpolation='none', savefig=False)\n",
    "    \n",
    "    # last row\n",
    "    if i // ncols == nrows - 1:\n",
    "        plt.xlabel('x (mm)')\n",
    "    else:\n",
    "        plt.xlabel('')\n",
    "    # first column\n",
    "    if i % ncols == 0:\n",
    "        plt.ylabel('z (mm)')\n",
    "    else:\n",
    "        plt.ylabel('')\n",
    "        \n",
    "    plt.plot(amp['x_max_intensity'], amp['z_max_intensity'], '1m')\n",
    "    plt.plot(scatterers.points.x, scatterers.points.z, 'dm')\n",
    "\n",
    "if aplt.conf['savefig']:\n",
    "    ax.figure.savefig(f'tfm')"
   ]
  }
 ],
 "metadata": {
  "kernelspec": {
   "display_name": "Python 3",
   "language": "python",
   "name": "python3"
  },
  "language_info": {
   "codemirror_mode": {
    "name": "ipython",
    "version": 3
   },
   "file_extension": ".py",
   "mimetype": "text/x-python",
   "name": "python",
   "nbconvert_exporter": "python",
   "pygments_lexer": "ipython3",
   "version": "3.6.3"
  }
 },
 "nbformat": 4,
 "nbformat_minor": 2
}
