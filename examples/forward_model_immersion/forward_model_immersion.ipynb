{
 "cells": [
  {
   "cell_type": "markdown",
   "metadata": {},
   "source": [
    "Computation of forward model for scatterers in a block in immersion.\n",
    "\n",
    "Nicolas Budyn, 2017-2018\n",
    "\n",
    "\n",
    "Input\n",
    "-----\n",
    "\n",
    "conf.yaml\n",
    "\n",
    "Output\n",
    "------\n",
    "\n",
    "- Figures if ``aplt.conf['savefig'] == True``\n",
    "- ``tfm_intensities.csv`` is ``save == True``\n",
    "\n",
    "Model\n",
    "-----\n",
    "\n",
    "The response of a scatterer in $y$ for a given mode, for the transmitter $i$ and the receiver $j$ is:\n",
    "\n",
    "$$\n",
    "\\begin{align}\n",
    "F_{ij}(\\omega) &= Q_i(\\omega, y) Q'_j(\\omega, y) S_{ij}(\\omega, y) \n",
    "                  \\exp(\\iota \\omega \\tau_{ij}(y))  U(\\omega) \\\\\n",
    "&= H_{ij}(\\omega) U(\\omega)\n",
    "\\end{align}\n",
    "$$\n",
    "                  \n",
    "                  \n",
    "                  \n",
    "$U(\\omega)$ is the toneburst: variables ``toneburst`` in time domain and ``toneburst_f`` in frequency domain.\n",
    "\n",
    "The scatterering function $S_{ij}$ is defined in variable ``scat_obj``.\n",
    "\n",
    "The transfer function $H_{ij}$ is stored in variable ``transfer_function_f``.\n",
    "\n",
    "Data structure\n",
    "--------------\n",
    "\n",
    "``frame`` : Frame\n",
    "    Frame that contains the response of the scatterers for all views.\n",
    "    \n",
    "``tfms`` : dict of arim.im.tfm.TfmResult\n",
    "    TFM image of the contribution of a mode to the corresponding view.\n",
    "    \n",
    "\n"
   ]
  },
  {
   "cell_type": "code",
   "execution_count": null,
   "metadata": {},
   "outputs": [],
   "source": [
    "import math\n",
    "import logging\n",
    "from collections import OrderedDict\n",
    "\n",
    "import numpy as np\n",
    "import matplotlib.pyplot as plt\n",
    "import pandas as pd\n",
    "import yaml\n",
    "from scipy.signal import hilbert\n",
    "import scipy.fftpack\n",
    "\n",
    "import arim, arim.model, arim.scat, arim.plot as aplt\n",
    "import arim.models.block_in_immersion as bim\n",
    "import arim.im, arim.signal  # for imaging\n",
    "import arim.scat\n",
    "import arim.io\n"
   ]
  },
  {
   "cell_type": "code",
   "execution_count": null,
   "metadata": {},
   "outputs": [],
   "source": [
    "save = True\n",
    "aplt.conf[\"savefig\"] = False\n",
    "\n",
    "use_multifreq = False\n",
    "max_number_of_reflection = 1  # for scatterer\n",
    "tfm_unique_only = False\n",
    "numangles_for_scat_precomp = 120  # 0 to disable precomputation\n",
    "\n",
    "logging.basicConfig()\n",
    "logger = logging.getLogger(__name__)\n",
    "logger.setLevel(logging.INFO)\n",
    "logging.getLogger(\"arim\").setLevel(logging.INFO)\n",
    "\n",
    "conf = arim.io.load_conf(\".\")\n"
   ]
  },
  {
   "cell_type": "markdown",
   "metadata": {},
   "source": [
    "#### Define inspection set-up"
   ]
  },
  {
   "cell_type": "code",
   "execution_count": null,
   "metadata": {},
   "outputs": [],
   "source": [
    "probe = arim.io.probe_from_conf(conf)\n",
    "tx_list, rx_list = arim.ut.fmc(probe.numelements)\n",
    "numscanlines = len(tx_list)\n",
    "\n",
    "examination_object = arim.io.block_in_immersion_from_conf(conf)\n",
    "\n",
    "defect_centre = conf[\"scatterer\"][\"location\"]\n",
    "scatterer = arim.geometry.default_oriented_points(\n",
    "    arim.geometry.Points(\n",
    "        [\n",
    "            [\n",
    "                conf[\"scatterer\"][\"location\"][\"x\"],\n",
    "                conf[\"scatterer\"][\"location\"][\"y\"],\n",
    "                conf[\"scatterer\"][\"location\"][\"z\"],\n",
    "            ]\n",
    "        ],\n",
    "        name=\"Scatterer\",\n",
    "    )\n",
    ")\n",
    "\n",
    "# for imaging:\n",
    "small_grid = arim.Grid.grid_centred_at_point(\n",
    "    defect_centre[\"x\"],\n",
    "    defect_centre[\"y\"],\n",
    "    defect_centre[\"z\"],\n",
    "    5e-3,\n",
    "    0.,\n",
    "    5e-3,\n",
    "    pixel_size=0.125e-3,\n",
    ")\n",
    "small_grid.name = \"Small grid\"\n",
    "\n",
    "aplt.plot_interfaces(\n",
    "    [\n",
    "        probe.to_oriented_points(),\n",
    "        examination_object.frontwall,\n",
    "        examination_object.backwall,\n",
    "        small_grid.to_oriented_points(),\n",
    "        scatterer,\n",
    "    ],\n",
    "    show_last=True,\n",
    "    markers=[\".\", \"-\", \"-\", \"k.\", \"d\"],\n",
    ")\n"
   ]
  },
  {
   "cell_type": "markdown",
   "metadata": {},
   "source": [
    "#### Ray tracing for scatterer"
   ]
  },
  {
   "cell_type": "code",
   "execution_count": null,
   "metadata": {},
   "outputs": [],
   "source": [
    "views = bim.make_views(\n",
    "    examination_object,\n",
    "    probe.to_oriented_points(),\n",
    "    scatterer,\n",
    "    max_number_of_reflection,\n",
    "    tfm_unique_only,\n",
    ")\n",
    "# views = {'L-L': views['L-L']}  # debug\n",
    "print(\"Views: \" + \", \".join(views.keys()))\n",
    "arim.ray.ray_tracing(views.values(), convert_to_fortran_order=True)\n"
   ]
  },
  {
   "cell_type": "markdown",
   "metadata": {},
   "source": [
    "#### Ray tracing for frontwall and backwall echoes\n",
    "Model:\n",
    "- first frontwall reflection,\n",
    "- LL, LT, TL and TT backwall reflections."
   ]
  },
  {
   "cell_type": "code",
   "execution_count": null,
   "metadata": {},
   "outputs": [],
   "source": [
    "frontwall_path = bim.frontwall_path(\n",
    "    examination_object.couplant_material,\n",
    "    examination_object.block_material,\n",
    "    *probe.to_oriented_points(),\n",
    "    *examination_object.frontwall,\n",
    ")\n",
    "\n",
    "backwall_paths = bim.backwall_paths(\n",
    "    examination_object.couplant_material,\n",
    "    examination_object.block_material,\n",
    "    probe.to_oriented_points(),\n",
    "    examination_object.frontwall,\n",
    "    examination_object.backwall,\n",
    ")\n",
    "\n",
    "wall_paths = {f\"Backwall {key}\": path for key, path in backwall_paths.items()}\n",
    "wall_paths[\"Frontwall\"] = frontwall_path\n",
    "arim.ray.ray_tracing_for_paths(wall_paths.values())\n",
    "print(\"Wall paths: \" + \", \".join(wall_paths.keys()))\n"
   ]
  },
  {
   "cell_type": "markdown",
   "metadata": {},
   "source": [
    "#### Ray tracing for imaging"
   ]
  },
  {
   "cell_type": "code",
   "execution_count": null,
   "metadata": {},
   "outputs": [],
   "source": [
    "# for imaging:\n",
    "views_scat = bim.make_views(\n",
    "    examination_object,\n",
    "    probe.to_oriented_points(),\n",
    "    small_grid.to_oriented_points(),\n",
    "    max_number_of_reflection,\n",
    "    tfm_unique_only,\n",
    ")\n",
    "# views_scat = {'L-L': views_scat['L-L']}  # debug\n",
    "arim.ray.ray_tracing(views_scat.values(), convert_to_fortran_order=True)\n"
   ]
  },
  {
   "cell_type": "markdown",
   "metadata": {},
   "source": [
    "#### Toneburst and time vector"
   ]
  },
  {
   "cell_type": "code",
   "execution_count": null,
   "metadata": {},
   "outputs": [],
   "source": [
    "max_delay_scat = max(\n",
    "    (\n",
    "        view.tx_path.rays.times.max() + view.rx_path.rays.times.max()\n",
    "        for view in views.values()\n",
    "    )\n",
    ")\n",
    "max_delay_frontwall = frontwall_path.rays.times.max()\n",
    "max_delay_backwall = max(path.rays.times.max() for path in backwall_paths.values())\n",
    "max_delay = max(max_delay_scat, max_delay_frontwall, max_delay_backwall)\n",
    "\n",
    "\n",
    "dt = .25 / probe.frequency  # to adjust so that the whole toneburst is sampled\n",
    "_tmax = max_delay + 4 * conf[\"toneburst\"][\"num_cycles\"] / probe.frequency\n",
    "\n",
    "numsamples = scipy.fftpack.next_fast_len(math.ceil(_tmax / dt))\n",
    "time = arim.Time(0., dt, numsamples)\n",
    "freq_array = np.fft.rfftfreq(len(time), dt)\n",
    "numfreq = len(freq_array)\n",
    "\n",
    "toneburst = arim.model.make_toneburst(\n",
    "    conf[\"toneburst\"][\"num_cycles\"],\n",
    "    conf[\"probe\"][\"frequency\"],\n",
    "    dt,\n",
    "    numsamples,\n",
    "    wrap=True,\n",
    ")\n",
    "toneburst_f = np.fft.rfft(toneburst)\n",
    "\n",
    "toneburst_ref = np.abs(hilbert(toneburst)[0])\n",
    "\n",
    "# plot toneburst\n",
    "plt.figure(figsize=(10, 5))\n",
    "plt.subplot(1, 2, 1)\n",
    "plt.plot(1e6 * time.samples, toneburst)\n",
    "plt.title(\"toneburst (time domain)\")\n",
    "plt.xlabel(\"time (µs)\")\n",
    "\n",
    "plt.subplot(1, 2, 2)\n",
    "plt.plot(1e-6 * np.fft.rfftfreq(len(toneburst), dt), abs(toneburst_f))\n",
    "plt.title(\"toneburst (frequency domain)\")\n",
    "plt.xlabel(\"frequency (MHz)\")\n",
    "if aplt.conf[\"savefig\"]:\n",
    "    plt.savefig(\"toneburst\")\n"
   ]
  },
  {
   "cell_type": "markdown",
   "metadata": {},
   "source": [
    "#### Compute transfer functions"
   ]
  },
  {
   "cell_type": "code",
   "execution_count": null,
   "metadata": {},
   "outputs": [],
   "source": [
    "model_options = dict(\n",
    "    probe_element_width=probe.dimensions.x[0],\n",
    "    use_directivity=True,\n",
    "    use_beamspread=True,\n",
    "    use_transrefl=True,\n",
    "    use_attenuation=True,\n",
    ")\n"
   ]
  },
  {
   "cell_type": "markdown",
   "metadata": {},
   "source": [
    "##### For scatterer"
   ]
  },
  {
   "cell_type": "code",
   "execution_count": null,
   "metadata": {},
   "outputs": [],
   "source": [
    "scat_obj = arim.scat.scat_factory(\n",
    "    material=examination_object.block_material, **conf[\"scatterer\"][\"specs\"]\n",
    ")\n",
    "scat_angle = np.deg2rad(conf[\"scatterer\"][\"angle_deg\"])\n",
    "\n",
    "transfer_function_f = np.zeros((numscanlines, numfreq), np.complex_)\n",
    "tfms_scat = OrderedDict()\n",
    "\n",
    "\n",
    "if use_multifreq:\n",
    "    # Multi frequency model\n",
    "    transfer_function_iterator = bim.multifreq_scat_transfer_functions(\n",
    "        views,\n",
    "        tx_list,\n",
    "        rx_list,\n",
    "        freq_array=freq_array,\n",
    "        scat_obj=scat_obj,\n",
    "        scat_angle=scat_angle,\n",
    "        numangles_for_scat_precomp=numangles_for_scat_precomp,\n",
    "        **model_options,\n",
    "    )\n",
    "else:\n",
    "    # Single frequency model\n",
    "    transfer_function_iterator = bim.singlefreq_scat_transfer_functions(\n",
    "        views,\n",
    "        tx_list,\n",
    "        rx_list,\n",
    "        freq_array=freq_array,\n",
    "        scat_obj=scat_obj,\n",
    "        scat_angle=scat_angle,\n",
    "        frequency=probe.frequency,\n",
    "        numangles_for_scat_precomp=numangles_for_scat_precomp,\n",
    "        **model_options,\n",
    "    )\n",
    "\n",
    "with arim.helpers.timeit(\"Main loop for scatterer\"):\n",
    "    for viewname, partial_transfer_func in transfer_function_iterator:\n",
    "        transfer_function_f += partial_transfer_func\n",
    "\n",
    "        # imaging:\n",
    "        partial_response = arim.signal.rfft_to_hilbert(\n",
    "            partial_transfer_func * toneburst_f, numsamples\n",
    "        )\n",
    "        partial_frame = arim.Frame(\n",
    "            partial_response, time, tx_list, rx_list, probe, examination_object\n",
    "        )\n",
    "\n",
    "        tfms_scat[viewname] = arim.im.tfm.tfm_for_view(\n",
    "            partial_frame,\n",
    "            small_grid,\n",
    "            views_scat[viewname],\n",
    "            interpolation=(\"lanczos\", 3),\n",
    "            fillvalue=0.,\n",
    "        )\n",
    "\n",
    "# At this stage, transfer_function_f contains the transfer function for scatterer for all views\n"
   ]
  },
  {
   "cell_type": "markdown",
   "metadata": {},
   "source": [
    "##### For walls"
   ]
  },
  {
   "cell_type": "code",
   "execution_count": null,
   "metadata": {},
   "outputs": [],
   "source": [
    "transfer_function_wall_f = np.zeros((numscanlines, numfreq), np.complex_)\n",
    "\n",
    "if use_multifreq:\n",
    "    transfer_function_iterator = bim.multifreq_wall_transfer_functions(\n",
    "        wall_paths, tx_list, rx_list, freq_array, **model_options\n",
    "    )\n",
    "else:\n",
    "    transfer_function_iterator = bim.singlefreq_wall_transfer_functions(\n",
    "        wall_paths, tx_list, rx_list, probe.frequency, freq_array, **model_options\n",
    "    )\n",
    "\n",
    "transfer_function_wall_f_dict = {}\n",
    "with arim.helpers.timeit(\"Main loop for walls:\"):\n",
    "    for pathname, partial_transfer_func in transfer_function_iterator:\n",
    "        transfer_function_wall_f += partial_transfer_func\n",
    "        transfer_function_wall_f_dict[pathname] = partial_transfer_func\n"
   ]
  },
  {
   "cell_type": "markdown",
   "metadata": {},
   "source": [
    "#### Compute the response in frequency then time domain"
   ]
  },
  {
   "cell_type": "code",
   "execution_count": null,
   "metadata": {},
   "outputs": [],
   "source": [
    "response_scanlines_f = (transfer_function_f + transfer_function_wall_f) * toneburst_f\n",
    "response_scanlines = arim.signal.rfft_to_hilbert(\n",
    "    response_scanlines_f, numsamples, axis=-1\n",
    ")\n",
    "real_response_scanlines = np.real(response_scanlines)\n",
    "\n",
    "frame = arim.Frame(\n",
    "    response_scanlines, time, tx_list, rx_list, probe, examination_object\n",
    ")\n",
    "\n",
    "plt.figure()\n",
    "idx = 31\n",
    "plt.plot(\n",
    "    frame.time.samples * 1e6,\n",
    "    np.real(frame.scanlines[idx]),\n",
    "    label=f\"tx={frame.tx[idx]}, rx={frame.rx[idx]}\",\n",
    ")\n",
    "plt.xlabel(\"time (µs)\")\n",
    "plt.title(\"time-domain response\")\n",
    "plt.legend()\n",
    "if aplt.conf[\"savefig\"]:\n",
    "    plt.savefig(\"time_domain_response\")\n"
   ]
  },
  {
   "cell_type": "code",
   "execution_count": null,
   "metadata": {},
   "outputs": [],
   "source": [
    "aplt.plot_bscan_pulse_echo(frame)\n"
   ]
  },
  {
   "cell_type": "markdown",
   "metadata": {},
   "source": [
    "#### Check reciprocity"
   ]
  },
  {
   "cell_type": "code",
   "execution_count": null,
   "metadata": {},
   "outputs": [],
   "source": [
    "tx = 1\n",
    "rx = 19\n",
    "\n",
    "idx1 = np.nonzero(np.logical_and(tx_list == tx, rx_list == rx))[0][0]\n",
    "idx2 = np.nonzero(np.logical_and(tx_list == rx, rx_list == tx))[0][0]\n",
    "\n",
    "real_response_scanlines = np.real(response_scanlines)\n",
    "\n",
    "plt.figure()\n",
    "plt.plot(\n",
    "    time.samples * 1e6,\n",
    "    real_response_scanlines[idx1],\n",
    "    label=f\"tx={tx_list[idx1]}, rx={rx_list[idx1]}\",\n",
    ")\n",
    "plt.plot(\n",
    "    time.samples * 1e6,\n",
    "    real_response_scanlines[idx2],\n",
    "    label=f\"tx={tx_list[idx2]}, rx={rx_list[idx2]}\",\n",
    ")\n",
    "plt.legend()\n",
    "plt.xlabel(\"time (µs)\")\n",
    "plt.title(\"reciprocity - signals must overlap perfectly\")\n",
    "if aplt.conf[\"savefig\"]:\n",
    "    plt.savefig(\"reciprocity\")\n",
    "response_scanlines_1 = real_response_scanlines.reshape(\n",
    "    (probe.numelements, probe.numelements, len(time))\n",
    ")\n",
    "response_scanlines_2 = np.swapaxes(response_scanlines_1, 0, 1)\n",
    "error_reciprocity = np.max(np.abs(response_scanlines_1 - response_scanlines_2), axis=-1)\n",
    "logger.info(\n",
    "    f\"Reciprocity error: {np.max(error_reciprocity)} on scanline {np.argmax(error_reciprocity)}\"\n",
    ")\n"
   ]
  },
  {
   "cell_type": "markdown",
   "metadata": {},
   "source": [
    "#### Measure TFM intensities"
   ]
  },
  {
   "cell_type": "code",
   "execution_count": null,
   "metadata": {
    "scrolled": true
   },
   "outputs": [],
   "source": [
    "tmp = []\n",
    "scatterer_idx = small_grid.closest_point(*scatterer.points[0])\n",
    "\n",
    "for viewname, tfm in tfms_scat.items():\n",
    "    max_tfm_idx = np.argmax(np.abs(tfm.res))\n",
    "    tmp.append(\n",
    "        (\n",
    "            viewname,\n",
    "            arim.ut.decibel(np.abs(tfm.res.flat[scatterer_idx]), toneburst_ref),\n",
    "            arim.ut.decibel(np.abs(tfm.res.flat[max_tfm_idx]), toneburst_ref),\n",
    "            small_grid.x.flat[max_tfm_idx],\n",
    "            small_grid.y.flat[max_tfm_idx],\n",
    "            small_grid.z.flat[max_tfm_idx],\n",
    "        )\n",
    "    )\n",
    "intensities_df = pd.DataFrame(\n",
    "    tmp,\n",
    "    columns=[\n",
    "        \"view\",\n",
    "        \"intensity_at_centre\",\n",
    "        \"max_intensity\",\n",
    "        \"x_max_intensity\",\n",
    "        \"y_max_intensity\",\n",
    "        \"z_max_intensity\",\n",
    "    ],\n",
    ").set_index(\"view\")\n",
    "\n",
    "if save:\n",
    "    intensities_df.to_csv(\"tfm_intensities.csv\")\n",
    "\n",
    "intensities_df.iloc[:, :2]\n"
   ]
  },
  {
   "cell_type": "markdown",
   "metadata": {},
   "source": [
    "#### Plot TFM of defect only"
   ]
  },
  {
   "cell_type": "code",
   "execution_count": null,
   "metadata": {
    "scrolled": false
   },
   "outputs": [],
   "source": [
    "scale = aplt.common_dynamic_db_scale([tfm.res for tfm in tfms_scat.values()])\n",
    "\n",
    "ncols = 3\n",
    "nrows = math.ceil(len(tfms_scat) / ncols)\n",
    "fig, axes = plt.subplots(nrows, ncols, figsize=(10, 30), sharex=True, sharey=True)\n",
    "\n",
    "for i, (viewname, tfm) in enumerate(tfms_scat.items()):\n",
    "    ref_db, clim = next(scale)\n",
    "\n",
    "    amp = intensities_df.loc[viewname]\n",
    "\n",
    "    ax = axes.flat[i]\n",
    "    plt.sca(ax)\n",
    "\n",
    "    aplt.plot_tfm(\n",
    "        tfm,\n",
    "        ax=ax,\n",
    "        clim=clim,\n",
    "        scale=\"db\",\n",
    "        ref_db=ref_db,\n",
    "        title=f\"TFM {viewname}\",\n",
    "        interpolation=\"none\",\n",
    "        savefig=False,\n",
    "    )\n",
    "\n",
    "    # last row\n",
    "    if i // ncols == nrows - 1:\n",
    "        plt.xlabel(\"x (mm)\")\n",
    "    else:\n",
    "        plt.xlabel(\"\")\n",
    "    # first column\n",
    "    if i % ncols == 0:\n",
    "        plt.ylabel(\"z (mm)\")\n",
    "    else:\n",
    "        plt.ylabel(\"\")\n",
    "\n",
    "    plt.plot(amp[\"x_max_intensity\"], amp[\"z_max_intensity\"], \"1m\")\n",
    "    plt.plot(scatterer.points.x, scatterer.points.z, \"dm\")\n",
    "\n",
    "if aplt.conf[\"savefig\"]:\n",
    "    ax.figure.savefig(f\"tfm\")\n"
   ]
  },
  {
   "cell_type": "markdown",
   "metadata": {},
   "source": [
    "## Full TFM"
   ]
  },
  {
   "cell_type": "code",
   "execution_count": null,
   "metadata": {},
   "outputs": [],
   "source": [
    "grid = arim.geometry.Grid(**conf[\"grid\"], ymin=0., ymax=0.)\n",
    "views_imaging = bim.make_views(\n",
    "    examination_object,\n",
    "    probe.to_oriented_points(),\n",
    "    grid.to_oriented_points(),\n",
    "    max_number_of_reflection,\n",
    "    tfm_unique_only=True,\n",
    ")\n",
    "arim.ray.ray_tracing(views_imaging.values(), convert_to_fortran_order=True)\n"
   ]
  },
  {
   "cell_type": "code",
   "execution_count": null,
   "metadata": {},
   "outputs": [],
   "source": [
    "tfms = {}\n",
    "for i, view in enumerate(views_imaging.values()):\n",
    "    with arim.helpers.timeit(\"TFM {}\".format(view.name), logger=logger):\n",
    "        tfms[view.name] = arim.im.tfm.tfm_for_view(\n",
    "            frame, grid, view, fillvalue=0., interpolation=(\"lanczos\", 3)\n",
    "        )\n"
   ]
  },
  {
   "cell_type": "code",
   "execution_count": null,
   "metadata": {
    "scrolled": false
   },
   "outputs": [],
   "source": [
    "size_box_x = 5e-3\n",
    "size_box_z = 5e-3\n",
    "\n",
    "reference_area = grid.points_in_rectbox(\n",
    "    xmin=defect_centre[\"x\"] - size_box_x / 2,\n",
    "    xmax=defect_centre[\"x\"] + size_box_x / 2,\n",
    "    zmin=defect_centre[\"z\"] - size_box_z / 2,\n",
    "    zmax=defect_centre[\"z\"] + size_box_z / 2,\n",
    ")\n",
    "scale = aplt.common_dynamic_db_scale(\n",
    "    [tfm.res for tfm in tfms.values()], reference_area, db_range=40.\n",
    ")\n",
    "scale = aplt.common_dynamic_db_scale(\n",
    "    [tfm.res for tfm in tfms.values()], None, db_range=40.\n",
    ")\n",
    "\n",
    "\n",
    "for i, (viewname, tfm) in enumerate(tfms.items()):\n",
    "    ref_db, clim = next(scale)\n",
    "\n",
    "    ax, _ = aplt.plot_tfm(\n",
    "        tfm,\n",
    "        clim=clim,\n",
    "        scale=\"db\",\n",
    "        ref_db=ref_db,\n",
    "        title=\"TFM {viewname}\".format(**locals()),\n",
    "        filename=\"tfm_{i:02}_{viewname}\".format(**locals()),\n",
    "    )\n"
   ]
  }
 ],
 "metadata": {
  "kernelspec": {
   "display_name": "Python 3",
   "language": "python",
   "name": "python3"
  },
  "language_info": {
   "codemirror_mode": {
    "name": "ipython",
    "version": 3
   },
   "file_extension": ".py",
   "mimetype": "text/x-python",
   "name": "python",
   "nbconvert_exporter": "python",
   "pygments_lexer": "ipython3",
   "version": "3.6.5"
  }
 },
 "nbformat": 4,
 "nbformat_minor": 2
}
